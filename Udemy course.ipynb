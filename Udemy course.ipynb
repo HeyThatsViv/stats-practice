{
 "cells": [
  {
   "cell_type": "code",
   "execution_count": 1,
   "metadata": {
    "ExecuteTime": {
     "end_time": "2021-03-14T19:28:42.034290Z",
     "start_time": "2021-03-14T19:28:41.302187Z"
    }
   },
   "outputs": [
    {
     "name": "stderr",
     "output_type": "stream",
     "text": [
      "C:\\Users\\drudi\\Anaconda3\\envs\\learn-env\\lib\\site-packages\\numpy\\_distributor_init.py:32: UserWarning: loaded more than 1 DLL from .libs:\n",
      "C:\\Users\\drudi\\Anaconda3\\envs\\learn-env\\lib\\site-packages\\numpy\\.libs\\libopenblas.NOIJJG62EMASZI6NYURL6JBKM4EVBGM7.gfortran-win_amd64.dll\n",
      "C:\\Users\\drudi\\Anaconda3\\envs\\learn-env\\lib\\site-packages\\numpy\\.libs\\libopenblas.PYQHXLVVQ7VESDPUVUADXEVJOBGHJPAY.gfortran-win_amd64.dll\n",
      "  stacklevel=1)\n"
     ]
    }
   ],
   "source": [
    "from scipy import stats\n",
    "from statistics import mean "
   ]
  },
  {
   "cell_type": "code",
   "execution_count": 2,
   "metadata": {
    "ExecuteTime": {
     "end_time": "2021-03-14T19:28:57.098729Z",
     "start_time": "2021-03-14T19:28:57.094730Z"
    }
   },
   "outputs": [],
   "source": [
    "from scipy.stats import ttest_ind"
   ]
  },
  {
   "cell_type": "code",
   "execution_count": 3,
   "metadata": {
    "ExecuteTime": {
     "end_time": "2021-03-14T19:28:58.048343Z",
     "start_time": "2021-03-14T19:28:58.045358Z"
    }
   },
   "outputs": [],
   "source": [
    "b = [1136,\n",
    "1178,\n",
    "1212,\n",
    "1193,\n",
    "1226,\n",
    "1154,\n",
    "1230,\n",
    "1222,\n",
    "1161,\n",
    "1148]\n",
    "\n",
    "a = [1184,\n",
    "1203,\n",
    "1219,\n",
    "1238,\n",
    "1243,\n",
    "1204,\n",
    "1269,\n",
    "1256,\n",
    "1156,\n",
    "1248]\n"
   ]
  },
  {
   "cell_type": "code",
   "execution_count": 4,
   "metadata": {
    "ExecuteTime": {
     "end_time": "2021-03-14T19:28:59.095373Z",
     "start_time": "2021-03-14T19:28:59.077377Z"
    }
   },
   "outputs": [
    {
     "data": {
      "text/plain": [
       "2.2795770510504845"
      ]
     },
     "execution_count": 4,
     "metadata": {},
     "output_type": "execute_result"
    }
   ],
   "source": [
    "ttest_ind(a,b).statistic"
   ]
  },
  {
   "cell_type": "code",
   "execution_count": 5,
   "metadata": {
    "ExecuteTime": {
     "end_time": "2021-03-14T19:29:02.411268Z",
     "start_time": "2021-03-14T19:29:02.399269Z"
    }
   },
   "outputs": [
    {
     "data": {
      "text/plain": [
       "0.03504505626727664"
      ]
     },
     "execution_count": 5,
     "metadata": {},
     "output_type": "execute_result"
    }
   ],
   "source": [
    "ttest_ind(a,b).pvalue"
   ]
  },
  {
   "cell_type": "code",
   "execution_count": 6,
   "metadata": {
    "ExecuteTime": {
     "end_time": "2021-03-14T19:29:03.847779Z",
     "start_time": "2021-03-14T19:29:03.844777Z"
    }
   },
   "outputs": [],
   "source": [
    "dept_a = [40, 36, 42, 36, 35, 35, 41, 43, 34]\n",
    "dept_b = [43, 41, 44, 39, 37, 35, 44, 46, 40]"
   ]
  },
  {
   "cell_type": "code",
   "execution_count": 7,
   "metadata": {
    "ExecuteTime": {
     "end_time": "2021-03-14T19:29:09.654878Z",
     "start_time": "2021-03-14T19:29:09.645891Z"
    }
   },
   "outputs": [
    {
     "data": {
      "text/plain": [
       "38"
      ]
     },
     "execution_count": 7,
     "metadata": {},
     "output_type": "execute_result"
    }
   ],
   "source": [
    "mew_a = mean(dept_a)\n",
    "mew_a"
   ]
  },
  {
   "cell_type": "code",
   "execution_count": 8,
   "metadata": {
    "ExecuteTime": {
     "end_time": "2021-03-14T19:29:10.540865Z",
     "start_time": "2021-03-14T19:29:10.532789Z"
    }
   },
   "outputs": [
    {
     "data": {
      "text/plain": [
       "41"
      ]
     },
     "execution_count": 8,
     "metadata": {},
     "output_type": "execute_result"
    }
   ],
   "source": [
    "mew_b = mean(dept_b)\n",
    "mew_b"
   ]
  },
  {
   "cell_type": "code",
   "execution_count": 32,
   "metadata": {
    "ExecuteTime": {
     "end_time": "2021-03-14T02:02:05.479289Z",
     "start_time": "2021-03-14T02:02:05.466289Z"
    }
   },
   "outputs": [
    {
     "data": {
      "text/plain": [
       "Ttest_indResult(statistic=-1.7999999999999998, pvalue=0.0907734524413777)"
      ]
     },
     "execution_count": 32,
     "metadata": {},
     "output_type": "execute_result"
    }
   ],
   "source": [
    "ttest_ind(dept_a, dept_b, equal_var=False)"
   ]
  },
  {
   "cell_type": "code",
   "execution_count": 29,
   "metadata": {
    "ExecuteTime": {
     "end_time": "2021-03-14T01:57:10.185105Z",
     "start_time": "2021-03-14T01:57:10.176105Z"
    }
   },
   "outputs": [
    {
     "data": {
      "text/plain": [
       "0.0907734524413777"
      ]
     },
     "execution_count": 29,
     "metadata": {},
     "output_type": "execute_result"
    }
   ],
   "source": [
    "ttest_ind(dept_a, dept_b, equal_var=False).pvalue"
   ]
  },
  {
   "cell_type": "code",
   "execution_count": 15,
   "metadata": {
    "ExecuteTime": {
     "end_time": "2021-03-14T19:31:50.972704Z",
     "start_time": "2021-03-14T19:31:50.966234Z"
    }
   },
   "outputs": [
    {
     "data": {
      "text/plain": [
       "'1.5.4'"
      ]
     },
     "execution_count": 15,
     "metadata": {},
     "output_type": "execute_result"
    }
   ],
   "source": [
    "import scipy\n",
    "scipy.__version__"
   ]
  },
  {
   "cell_type": "code",
   "execution_count": 16,
   "metadata": {
    "ExecuteTime": {
     "end_time": "2021-03-14T20:23:03.437907Z",
     "start_time": "2021-03-14T20:23:03.430907Z"
    }
   },
   "outputs": [],
   "source": [
    "from scipy.stats import linregress"
   ]
  },
  {
   "cell_type": "code",
   "execution_count": 17,
   "metadata": {
    "ExecuteTime": {
     "end_time": "2021-03-14T20:23:37.478361Z",
     "start_time": "2021-03-14T20:23:37.473364Z"
    }
   },
   "outputs": [],
   "source": [
    "x = [34, 35, 39, 42, 43, 47]\n",
    "y = [102, 109, 137, 148, 150, 158]"
   ]
  },
  {
   "cell_type": "code",
   "execution_count": 25,
   "metadata": {
    "ExecuteTime": {
     "end_time": "2021-03-14T20:37:57.070029Z",
     "start_time": "2021-03-14T20:37:57.063912Z"
    }
   },
   "outputs": [
    {
     "data": {
      "text/plain": [
       "4.5"
      ]
     },
     "execution_count": 25,
     "metadata": {},
     "output_type": "execute_result"
    }
   ],
   "source": [
    "slope = round(linregress(x, y).slope, 1)\n",
    "slope"
   ]
  },
  {
   "cell_type": "code",
   "execution_count": 23,
   "metadata": {
    "ExecuteTime": {
     "end_time": "2021-03-14T20:25:01.812126Z",
     "start_time": "2021-03-14T20:25:01.802129Z"
    }
   },
   "outputs": [
    {
     "data": {
      "text/plain": [
       "-46.0"
      ]
     },
     "execution_count": 23,
     "metadata": {},
     "output_type": "execute_result"
    }
   ],
   "source": [
    "intercept = round(linregress(x, y).intercept, 1)\n",
    "intercept"
   ]
  },
  {
   "cell_type": "code",
   "execution_count": 24,
   "metadata": {
    "ExecuteTime": {
     "end_time": "2021-03-14T20:25:22.113093Z",
     "start_time": "2021-03-14T20:25:22.101090Z"
    }
   },
   "outputs": [
    {
     "data": {
      "text/plain": [
       "'y = -46.0 + 4.5x'"
      ]
     },
     "execution_count": 24,
     "metadata": {},
     "output_type": "execute_result"
    }
   ],
   "source": [
    "f'y = {intercept} + {slope}x'"
   ]
  },
  {
   "cell_type": "code",
   "execution_count": 26,
   "metadata": {
    "ExecuteTime": {
     "end_time": "2021-03-14T20:38:13.579639Z",
     "start_time": "2021-03-14T20:38:12.579437Z"
    }
   },
   "outputs": [],
   "source": [
    "from sklearn.linear_model import LinearRegression"
   ]
  },
  {
   "cell_type": "code",
   "execution_count": 27,
   "metadata": {
    "ExecuteTime": {
     "end_time": "2021-03-14T20:39:02.068528Z",
     "start_time": "2021-03-14T20:39:02.063598Z"
    }
   },
   "outputs": [],
   "source": [
    "x1, x2 = [1, 3, 2, 3, 1], [8, 4, 9, 6, 3]\n",
    "y = [29, 31, 36, 35, 19]"
   ]
  },
  {
   "cell_type": "code",
   "execution_count": 28,
   "metadata": {
    "ExecuteTime": {
     "end_time": "2021-03-14T20:39:11.329978Z",
     "start_time": "2021-03-14T20:39:11.321978Z"
    }
   },
   "outputs": [],
   "source": [
    "reg = LinearRegression()"
   ]
  },
  {
   "cell_type": "code",
   "execution_count": 29,
   "metadata": {
    "ExecuteTime": {
     "end_time": "2021-03-14T20:39:32.409420Z",
     "start_time": "2021-03-14T20:39:32.386414Z"
    }
   },
   "outputs": [
    {
     "data": {
      "text/plain": [
       "LinearRegression()"
      ]
     },
     "execution_count": 29,
     "metadata": {},
     "output_type": "execute_result"
    }
   ],
   "source": [
    "reg.fit(list(zip(x1, x2)), y)"
   ]
  },
  {
   "cell_type": "code",
   "execution_count": 33,
   "metadata": {
    "ExecuteTime": {
     "end_time": "2021-03-14T20:40:07.883555Z",
     "start_time": "2021-03-14T20:40:07.877556Z"
    }
   },
   "outputs": [
    {
     "data": {
      "text/plain": [
       "(5.0, 2.000000000000001)"
      ]
     },
     "execution_count": 33,
     "metadata": {},
     "output_type": "execute_result"
    }
   ],
   "source": [
    "b1, b2 = reg.coef_[0], reg.coef_[1]\n",
    "b1, b2"
   ]
  },
  {
   "cell_type": "code",
   "execution_count": 35,
   "metadata": {
    "ExecuteTime": {
     "end_time": "2021-03-14T20:41:06.293600Z",
     "start_time": "2021-03-14T20:41:06.284600Z"
    }
   },
   "outputs": [
    {
     "data": {
      "text/plain": [
       "7.999999999999993"
      ]
     },
     "execution_count": 35,
     "metadata": {},
     "output_type": "execute_result"
    }
   ],
   "source": [
    "b0 = reg.intercept_\n",
    "b0"
   ]
  },
  {
   "cell_type": "code",
   "execution_count": 37,
   "metadata": {
    "ExecuteTime": {
     "end_time": "2021-03-14T20:41:55.056347Z",
     "start_time": "2021-03-14T20:41:55.049360Z"
    }
   },
   "outputs": [
    {
     "data": {
      "text/plain": [
       "'y = 8.0 + 5.0x1 + 2.0x2'"
      ]
     },
     "execution_count": 37,
     "metadata": {},
     "output_type": "execute_result"
    }
   ],
   "source": [
    "f'y = {b0:.{3}} + {b1:.{3}}x1 + {b2:.{3}}x2'"
   ]
  },
  {
   "cell_type": "code",
   "execution_count": 38,
   "metadata": {
    "ExecuteTime": {
     "end_time": "2021-03-14T21:30:38.030750Z",
     "start_time": "2021-03-14T21:30:38.023053Z"
    }
   },
   "outputs": [],
   "source": [
    "from scipy.stats import chi2"
   ]
  },
  {
   "cell_type": "code",
   "execution_count": 39,
   "metadata": {
    "ExecuteTime": {
     "end_time": "2021-03-14T21:31:02.275471Z",
     "start_time": "2021-03-14T21:31:02.265554Z"
    }
   },
   "outputs": [
    {
     "data": {
      "text/plain": [
       "11.070497693516355"
      ]
     },
     "execution_count": 39,
     "metadata": {},
     "output_type": "execute_result"
    }
   ],
   "source": [
    "chi2.isf(0.05, 5)"
   ]
  },
  {
   "cell_type": "code",
   "execution_count": 48,
   "metadata": {
    "ExecuteTime": {
     "end_time": "2021-03-15T20:29:43.196094Z",
     "start_time": "2021-03-15T20:29:43.187086Z"
    }
   },
   "outputs": [],
   "source": [
    "def largest_cont_sum(some_array):\n",
    "    if len(some_array) == 0:\n",
    "        return 0\n",
    "    max_sum = some_array[0]\n",
    "    current_sum = some_array[0]\n",
    "    \n",
    "    for num in some_array[1:]:\n",
    "        current_sum = max(current_sum + num, num)\n",
    "        max_sum = max(current_sum, max_sum)\n",
    "    return max_sum\n"
   ]
  },
  {
   "cell_type": "code",
   "execution_count": 40,
   "metadata": {
    "ExecuteTime": {
     "end_time": "2021-03-15T20:22:40.630606Z",
     "start_time": "2021-03-15T20:22:40.612604Z"
    }
   },
   "outputs": [
    {
     "data": {
      "text/plain": [
       "0"
      ]
     },
     "execution_count": 40,
     "metadata": {},
     "output_type": "execute_result"
    }
   ],
   "source": [
    "some_array = []\n",
    "len(some_array)"
   ]
  },
  {
   "cell_type": "code",
   "execution_count": 51,
   "metadata": {
    "ExecuteTime": {
     "end_time": "2021-03-15T20:30:37.940238Z",
     "start_time": "2021-03-15T20:30:37.932082Z"
    }
   },
   "outputs": [
    {
     "data": {
      "text/plain": [
       "110"
      ]
     },
     "execution_count": 51,
     "metadata": {},
     "output_type": "execute_result"
    }
   ],
   "source": [
    "a = [100, -10, 20, -10, 3]\n",
    "largest_cont_sum(a)"
   ]
  },
  {
   "cell_type": "code",
   "execution_count": 83,
   "metadata": {
    "ExecuteTime": {
     "end_time": "2021-03-15T20:54:08.790319Z",
     "start_time": "2021-03-15T20:54:08.784321Z"
    }
   },
   "outputs": [],
   "source": [
    "def count_letters(string):\n",
    "    if len(string) == 0:\n",
    "        return 'None'\n",
    "    string_set = list(set(string))\n",
    "    print(string_set)\n",
    "    count_string = ''\n",
    "    for letter in string_set:\n",
    "        count = str(string.count(letter))\n",
    "        print(count)\n",
    "        count_string + letter\n",
    "        count_string + count\n",
    "    return count_string"
   ]
  },
  {
   "cell_type": "code",
   "execution_count": 91,
   "metadata": {
    "ExecuteTime": {
     "end_time": "2021-03-15T21:17:08.935607Z",
     "start_time": "2021-03-15T21:17:08.925623Z"
    }
   },
   "outputs": [],
   "source": [
    "def compress(s):\n",
    "    run = ''\n",
    "    length = len(s)\n",
    "    if len(string) == 0:\n",
    "        return ''\n",
    "    if length == 1:\n",
    "        return x + '1'\n",
    "    count = 1\n",
    "    i = 1\n",
    "    \n",
    "    while i < length:\n",
    "        if s[i] == s[i-1]:\n",
    "            count +=1\n",
    "        \n",
    "        else:\n",
    "            run = run + s[i-1] + str(count)\n",
    "            count = 1\n",
    "        i +=1\n",
    "    run = run + s[i-1] + str(count)\n",
    "    \n",
    "    return run"
   ]
  },
  {
   "cell_type": "code",
   "execution_count": 56,
   "metadata": {
    "ExecuteTime": {
     "end_time": "2021-03-15T20:38:28.486620Z",
     "start_time": "2021-03-15T20:38:28.482621Z"
    }
   },
   "outputs": [
    {
     "data": {
      "text/plain": [
       "['A', 'A', 'B', 'B', 'c', 'c']"
      ]
     },
     "execution_count": 56,
     "metadata": {},
     "output_type": "execute_result"
    }
   ],
   "source": [
    "string = 'AABBcc'\n",
    "string_list = [*string]\n",
    "string_list"
   ]
  },
  {
   "cell_type": "code",
   "execution_count": 94,
   "metadata": {
    "ExecuteTime": {
     "end_time": "2021-03-15T21:17:25.191019Z",
     "start_time": "2021-03-15T21:17:25.180018Z"
    }
   },
   "outputs": [
    {
     "data": {
      "text/plain": [
       "'A1a1B1b1C1c1'"
      ]
     },
     "execution_count": 94,
     "metadata": {},
     "output_type": "execute_result"
    }
   ],
   "source": [
    "string1 = 'AABBCC'\n",
    "string2 = 'AaBbCc'\n",
    "compress(string2)"
   ]
  },
  {
   "cell_type": "code",
   "execution_count": 67,
   "metadata": {
    "ExecuteTime": {
     "end_time": "2021-03-15T20:44:45.283367Z",
     "start_time": "2021-03-15T20:44:45.273284Z"
    }
   },
   "outputs": [
    {
     "data": {
      "text/plain": [
       "{'A', 'B', 'C'}"
      ]
     },
     "execution_count": 67,
     "metadata": {},
     "output_type": "execute_result"
    }
   ],
   "source": [
    "set(string1)"
   ]
  },
  {
   "cell_type": "code",
   "execution_count": 74,
   "metadata": {
    "ExecuteTime": {
     "end_time": "2021-03-15T20:45:59.119616Z",
     "start_time": "2021-03-15T20:45:59.113616Z"
    }
   },
   "outputs": [
    {
     "data": {
      "text/plain": [
       "'D'"
      ]
     },
     "execution_count": 74,
     "metadata": {},
     "output_type": "execute_result"
    }
   ],
   "source": [
    "new_string = string1.join('D')\n",
    "new_string"
   ]
  },
  {
   "cell_type": "code",
   "execution_count": null,
   "metadata": {},
   "outputs": [],
   "source": [
    "loop through string\n",
    "keep a count of letters that are the same\n",
    "when reaching a new letter, then stop and print the letter plus count\n",
    "at end of string combine all the letters and counts"
   ]
  },
  {
   "cell_type": "code",
   "execution_count": 110,
   "metadata": {
    "ExecuteTime": {
     "end_time": "2021-03-15T21:49:33.477582Z",
     "start_time": "2021-03-15T21:49:33.472579Z"
    }
   },
   "outputs": [],
   "source": [
    "def buy_sell(arr):\n",
    "    if len(arr) < 2:\n",
    "        return 0\n",
    "    if len(arr) == 2:\n",
    "        if arr[0] - arr[1] < 0:\n",
    "            return 'Buy on day 1, sell on day 2'\n",
    "        else:\n",
    "            return 0\n",
    "        \n",
    "    maximum = 0\n",
    "    index = 0\n",
    "        \n",
    "    for i in arr:\n",
    "        if arr[i] - arr[i-1] > maximum:\n",
    "            maximum = arr[i] - arr[i-1]\n",
    "            index = i\n",
    "        else:\n",
    "            pass\n",
    "    return f'Buy on day {index}, sell on day {index +1}'"
   ]
  },
  {
   "cell_type": "code",
   "execution_count": 108,
   "metadata": {
    "ExecuteTime": {
     "end_time": "2021-03-15T21:45:00.539094Z",
     "start_time": "2021-03-15T21:45:00.523093Z"
    }
   },
   "outputs": [
    {
     "ename": "IndexError",
     "evalue": "list index out of range",
     "output_type": "error",
     "traceback": [
      "\u001b[1;31m---------------------------------------------------------------------------\u001b[0m",
      "\u001b[1;31mIndexError\u001b[0m                                Traceback (most recent call last)",
      "\u001b[1;32m<ipython-input-108-ab0f60ba0d35>\u001b[0m in \u001b[0;36m<module>\u001b[1;34m\u001b[0m\n\u001b[1;32m----> 1\u001b[1;33m \u001b[0mbuy_sell\u001b[0m\u001b[1;33m(\u001b[0m\u001b[1;33m[\u001b[0m\u001b[1;36m1\u001b[0m\u001b[1;33m,\u001b[0m \u001b[1;36m2\u001b[0m\u001b[1;33m,\u001b[0m \u001b[1;36m3\u001b[0m\u001b[1;33m,\u001b[0m \u001b[1;36m4\u001b[0m\u001b[1;33m]\u001b[0m\u001b[1;33m)\u001b[0m\u001b[1;33m\u001b[0m\u001b[1;33m\u001b[0m\u001b[0m\n\u001b[0m",
      "\u001b[1;32m<ipython-input-107-51eac996f914>\u001b[0m in \u001b[0;36mbuy_sell\u001b[1;34m(arr)\u001b[0m\n\u001b[0;32m     12\u001b[0m \u001b[1;33m\u001b[0m\u001b[0m\n\u001b[0;32m     13\u001b[0m     \u001b[1;32mfor\u001b[0m \u001b[0mi\u001b[0m \u001b[1;32min\u001b[0m \u001b[0marr\u001b[0m\u001b[1;33m:\u001b[0m\u001b[1;33m\u001b[0m\u001b[1;33m\u001b[0m\u001b[0m\n\u001b[1;32m---> 14\u001b[1;33m         \u001b[1;32mif\u001b[0m \u001b[0marr\u001b[0m\u001b[1;33m[\u001b[0m\u001b[0mi\u001b[0m\u001b[1;33m]\u001b[0m \u001b[1;33m-\u001b[0m \u001b[0marr\u001b[0m\u001b[1;33m[\u001b[0m\u001b[0mi\u001b[0m\u001b[1;33m-\u001b[0m\u001b[1;36m1\u001b[0m\u001b[1;33m]\u001b[0m \u001b[1;33m>\u001b[0m \u001b[0mmaximum\u001b[0m\u001b[1;33m:\u001b[0m\u001b[1;33m\u001b[0m\u001b[1;33m\u001b[0m\u001b[0m\n\u001b[0m\u001b[0;32m     15\u001b[0m             \u001b[0mmaximum\u001b[0m \u001b[1;33m=\u001b[0m \u001b[0marr\u001b[0m\u001b[1;33m[\u001b[0m\u001b[0mi\u001b[0m\u001b[1;33m]\u001b[0m \u001b[1;33m-\u001b[0m \u001b[0marr\u001b[0m\u001b[1;33m[\u001b[0m\u001b[0mi\u001b[0m\u001b[1;33m-\u001b[0m\u001b[1;36m1\u001b[0m\u001b[1;33m]\u001b[0m\u001b[1;33m\u001b[0m\u001b[1;33m\u001b[0m\u001b[0m\n\u001b[0;32m     16\u001b[0m             \u001b[0mindex\u001b[0m \u001b[1;33m=\u001b[0m \u001b[0mi\u001b[0m\u001b[1;33m\u001b[0m\u001b[1;33m\u001b[0m\u001b[0m\n",
      "\u001b[1;31mIndexError\u001b[0m: list index out of range"
     ]
    }
   ],
   "source": [
    "buy_sell([1, 2, 3, 4])"
   ]
  },
  {
   "cell_type": "code",
   "execution_count": 113,
   "metadata": {
    "ExecuteTime": {
     "end_time": "2021-03-15T21:57:05.225091Z",
     "start_time": "2021-03-15T21:57:05.217187Z"
    }
   },
   "outputs": [],
   "source": [
    "def profit(stock_prices):\n",
    "    if len(stock_prices) <2:\n",
    "        return 'Need more prices.'\n",
    "    min_price = stock_prices[0]\n",
    "    max_profit = 0\n",
    "    \n",
    "    for price in stock_prices:\n",
    "        min_price = min(min_price, price)\n",
    "        comparision_profit = price - min_price\n",
    "        max_profit = max(max_profit, comparision_profit)\n",
    "        \n",
    "    return max_profit"
   ]
  },
  {
   "cell_type": "code",
   "execution_count": 116,
   "metadata": {
    "ExecuteTime": {
     "end_time": "2021-03-15T21:57:17.756285Z",
     "start_time": "2021-03-15T21:57:17.749075Z"
    }
   },
   "outputs": [
    {
     "data": {
      "text/plain": [
       "10"
      ]
     },
     "execution_count": 116,
     "metadata": {},
     "output_type": "execute_result"
    }
   ],
   "source": [
    "profit([29, 20, 30])"
   ]
  },
  {
   "cell_type": "code",
   "execution_count": 140,
   "metadata": {
    "ExecuteTime": {
     "end_time": "2021-03-15T22:14:01.404134Z",
     "start_time": "2021-03-15T22:14:01.396083Z"
    }
   },
   "outputs": [],
   "source": [
    "def find_missing1(list1, list2):\n",
    "    list3 = list1.copy()\n",
    "    for x in list2:\n",
    "        list3.remove(x)\n",
    "    return list3"
   ]
  },
  {
   "cell_type": "code",
   "execution_count": 143,
   "metadata": {
    "ExecuteTime": {
     "end_time": "2021-03-15T22:14:35.210657Z",
     "start_time": "2021-03-15T22:14:35.199663Z"
    }
   },
   "outputs": [
    {
     "data": {
      "text/plain": [
       "[2, 4]"
      ]
     },
     "execution_count": 143,
     "metadata": {},
     "output_type": "execute_result"
    }
   ],
   "source": [
    "arr1 = [1,2,2,3,4]\n",
    "arr2 = [1,2,3]\n",
    "find_missing1(arr1, arr2)"
   ]
  },
  {
   "cell_type": "code",
   "execution_count": 144,
   "metadata": {
    "ExecuteTime": {
     "end_time": "2021-03-15T22:14:41.976924Z",
     "start_time": "2021-03-15T22:14:41.969981Z"
    }
   },
   "outputs": [
    {
     "data": {
      "text/plain": [
       "([1, 2, 2, 3, 4], [1, 2, 3])"
      ]
     },
     "execution_count": 144,
     "metadata": {},
     "output_type": "execute_result"
    }
   ],
   "source": [
    "arr1, arr2"
   ]
  },
  {
   "cell_type": "code",
   "execution_count": 148,
   "metadata": {
    "ExecuteTime": {
     "end_time": "2021-03-15T22:18:19.771629Z",
     "start_time": "2021-03-15T22:18:19.763630Z"
    }
   },
   "outputs": [],
   "source": [
    "def find_missing2(list1, list2):\n",
    "    sum1 = sum(list1)\n",
    "    sum2 = sum(list2)\n",
    "    return sum1 - sum2"
   ]
  },
  {
   "cell_type": "code",
   "execution_count": 150,
   "metadata": {
    "ExecuteTime": {
     "end_time": "2021-03-15T22:18:35.201984Z",
     "start_time": "2021-03-15T22:18:35.193981Z"
    }
   },
   "outputs": [
    {
     "data": {
      "text/plain": [
       "2"
      ]
     },
     "execution_count": 150,
     "metadata": {},
     "output_type": "execute_result"
    }
   ],
   "source": [
    "arr1 = [1,2,2,3,4]\n",
    "arr2 = [1,2,3, 4]\n",
    "find_missing2(arr1, arr2)"
   ]
  },
  {
   "cell_type": "code",
   "execution_count": null,
   "metadata": {},
   "outputs": [],
   "source": []
  }
 ],
 "metadata": {
  "kernelspec": {
   "display_name": "learn-env",
   "language": "python",
   "name": "learn-env"
  },
  "language_info": {
   "codemirror_mode": {
    "name": "ipython",
    "version": 3
   },
   "file_extension": ".py",
   "mimetype": "text/x-python",
   "name": "python",
   "nbconvert_exporter": "python",
   "pygments_lexer": "ipython3",
   "version": "3.6.11"
  },
  "toc": {
   "base_numbering": 1,
   "nav_menu": {},
   "number_sections": true,
   "sideBar": true,
   "skip_h1_title": false,
   "title_cell": "Table of Contents",
   "title_sidebar": "Contents",
   "toc_cell": false,
   "toc_position": {},
   "toc_section_display": true,
   "toc_window_display": true
  }
 },
 "nbformat": 4,
 "nbformat_minor": 4
}
