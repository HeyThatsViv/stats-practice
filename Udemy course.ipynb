{
 "cells": [
  {
   "cell_type": "code",
   "execution_count": 1,
   "metadata": {
    "ExecuteTime": {
     "end_time": "2021-03-14T19:28:42.034290Z",
     "start_time": "2021-03-14T19:28:41.302187Z"
    }
   },
   "outputs": [
    {
     "name": "stderr",
     "output_type": "stream",
     "text": [
      "C:\\Users\\drudi\\Anaconda3\\envs\\learn-env\\lib\\site-packages\\numpy\\_distributor_init.py:32: UserWarning: loaded more than 1 DLL from .libs:\n",
      "C:\\Users\\drudi\\Anaconda3\\envs\\learn-env\\lib\\site-packages\\numpy\\.libs\\libopenblas.NOIJJG62EMASZI6NYURL6JBKM4EVBGM7.gfortran-win_amd64.dll\n",
      "C:\\Users\\drudi\\Anaconda3\\envs\\learn-env\\lib\\site-packages\\numpy\\.libs\\libopenblas.PYQHXLVVQ7VESDPUVUADXEVJOBGHJPAY.gfortran-win_amd64.dll\n",
      "  stacklevel=1)\n"
     ]
    }
   ],
   "source": [
    "from scipy import stats\n",
    "from statistics import mean "
   ]
  },
  {
   "cell_type": "code",
   "execution_count": 2,
   "metadata": {
    "ExecuteTime": {
     "end_time": "2021-03-14T19:28:57.098729Z",
     "start_time": "2021-03-14T19:28:57.094730Z"
    }
   },
   "outputs": [],
   "source": [
    "from scipy.stats import ttest_ind"
   ]
  },
  {
   "cell_type": "code",
   "execution_count": 3,
   "metadata": {
    "ExecuteTime": {
     "end_time": "2021-03-14T19:28:58.048343Z",
     "start_time": "2021-03-14T19:28:58.045358Z"
    }
   },
   "outputs": [],
   "source": [
    "b = [1136,\n",
    "1178,\n",
    "1212,\n",
    "1193,\n",
    "1226,\n",
    "1154,\n",
    "1230,\n",
    "1222,\n",
    "1161,\n",
    "1148]\n",
    "\n",
    "a = [1184,\n",
    "1203,\n",
    "1219,\n",
    "1238,\n",
    "1243,\n",
    "1204,\n",
    "1269,\n",
    "1256,\n",
    "1156,\n",
    "1248]\n"
   ]
  },
  {
   "cell_type": "code",
   "execution_count": 4,
   "metadata": {
    "ExecuteTime": {
     "end_time": "2021-03-14T19:28:59.095373Z",
     "start_time": "2021-03-14T19:28:59.077377Z"
    }
   },
   "outputs": [
    {
     "data": {
      "text/plain": [
       "2.2795770510504845"
      ]
     },
     "execution_count": 4,
     "metadata": {},
     "output_type": "execute_result"
    }
   ],
   "source": [
    "ttest_ind(a,b).statistic"
   ]
  },
  {
   "cell_type": "code",
   "execution_count": 5,
   "metadata": {
    "ExecuteTime": {
     "end_time": "2021-03-14T19:29:02.411268Z",
     "start_time": "2021-03-14T19:29:02.399269Z"
    }
   },
   "outputs": [
    {
     "data": {
      "text/plain": [
       "0.03504505626727664"
      ]
     },
     "execution_count": 5,
     "metadata": {},
     "output_type": "execute_result"
    }
   ],
   "source": [
    "ttest_ind(a,b).pvalue"
   ]
  },
  {
   "cell_type": "code",
   "execution_count": 6,
   "metadata": {
    "ExecuteTime": {
     "end_time": "2021-03-14T19:29:03.847779Z",
     "start_time": "2021-03-14T19:29:03.844777Z"
    }
   },
   "outputs": [],
   "source": [
    "dept_a = [40, 36, 42, 36, 35, 35, 41, 43, 34]\n",
    "dept_b = [43, 41, 44, 39, 37, 35, 44, 46, 40]"
   ]
  },
  {
   "cell_type": "code",
   "execution_count": 7,
   "metadata": {
    "ExecuteTime": {
     "end_time": "2021-03-14T19:29:09.654878Z",
     "start_time": "2021-03-14T19:29:09.645891Z"
    }
   },
   "outputs": [
    {
     "data": {
      "text/plain": [
       "38"
      ]
     },
     "execution_count": 7,
     "metadata": {},
     "output_type": "execute_result"
    }
   ],
   "source": [
    "mew_a = mean(dept_a)\n",
    "mew_a"
   ]
  },
  {
   "cell_type": "code",
   "execution_count": 8,
   "metadata": {
    "ExecuteTime": {
     "end_time": "2021-03-14T19:29:10.540865Z",
     "start_time": "2021-03-14T19:29:10.532789Z"
    }
   },
   "outputs": [
    {
     "data": {
      "text/plain": [
       "41"
      ]
     },
     "execution_count": 8,
     "metadata": {},
     "output_type": "execute_result"
    }
   ],
   "source": [
    "mew_b = mean(dept_b)\n",
    "mew_b"
   ]
  },
  {
   "cell_type": "code",
   "execution_count": 32,
   "metadata": {
    "ExecuteTime": {
     "end_time": "2021-03-14T02:02:05.479289Z",
     "start_time": "2021-03-14T02:02:05.466289Z"
    }
   },
   "outputs": [
    {
     "data": {
      "text/plain": [
       "Ttest_indResult(statistic=-1.7999999999999998, pvalue=0.0907734524413777)"
      ]
     },
     "execution_count": 32,
     "metadata": {},
     "output_type": "execute_result"
    }
   ],
   "source": [
    "ttest_ind(dept_a, dept_b, equal_var=False)"
   ]
  },
  {
   "cell_type": "code",
   "execution_count": 29,
   "metadata": {
    "ExecuteTime": {
     "end_time": "2021-03-14T01:57:10.185105Z",
     "start_time": "2021-03-14T01:57:10.176105Z"
    }
   },
   "outputs": [
    {
     "data": {
      "text/plain": [
       "0.0907734524413777"
      ]
     },
     "execution_count": 29,
     "metadata": {},
     "output_type": "execute_result"
    }
   ],
   "source": [
    "ttest_ind(dept_a, dept_b, equal_var=False).pvalue"
   ]
  },
  {
   "cell_type": "code",
   "execution_count": 15,
   "metadata": {
    "ExecuteTime": {
     "end_time": "2021-03-14T19:31:50.972704Z",
     "start_time": "2021-03-14T19:31:50.966234Z"
    }
   },
   "outputs": [
    {
     "data": {
      "text/plain": [
       "'1.5.4'"
      ]
     },
     "execution_count": 15,
     "metadata": {},
     "output_type": "execute_result"
    }
   ],
   "source": [
    "import scipy\n",
    "scipy.__version__"
   ]
  },
  {
   "cell_type": "code",
   "execution_count": 16,
   "metadata": {
    "ExecuteTime": {
     "end_time": "2021-03-14T20:23:03.437907Z",
     "start_time": "2021-03-14T20:23:03.430907Z"
    }
   },
   "outputs": [],
   "source": [
    "from scipy.stats import linregress"
   ]
  },
  {
   "cell_type": "code",
   "execution_count": 17,
   "metadata": {
    "ExecuteTime": {
     "end_time": "2021-03-14T20:23:37.478361Z",
     "start_time": "2021-03-14T20:23:37.473364Z"
    }
   },
   "outputs": [],
   "source": [
    "x = [34, 35, 39, 42, 43, 47]\n",
    "y = [102, 109, 137, 148, 150, 158]"
   ]
  },
  {
   "cell_type": "code",
   "execution_count": 25,
   "metadata": {
    "ExecuteTime": {
     "end_time": "2021-03-14T20:37:57.070029Z",
     "start_time": "2021-03-14T20:37:57.063912Z"
    }
   },
   "outputs": [
    {
     "data": {
      "text/plain": [
       "4.5"
      ]
     },
     "execution_count": 25,
     "metadata": {},
     "output_type": "execute_result"
    }
   ],
   "source": [
    "slope = round(linregress(x, y).slope, 1)\n",
    "slope"
   ]
  },
  {
   "cell_type": "code",
   "execution_count": 23,
   "metadata": {
    "ExecuteTime": {
     "end_time": "2021-03-14T20:25:01.812126Z",
     "start_time": "2021-03-14T20:25:01.802129Z"
    }
   },
   "outputs": [
    {
     "data": {
      "text/plain": [
       "-46.0"
      ]
     },
     "execution_count": 23,
     "metadata": {},
     "output_type": "execute_result"
    }
   ],
   "source": [
    "intercept = round(linregress(x, y).intercept, 1)\n",
    "intercept"
   ]
  },
  {
   "cell_type": "code",
   "execution_count": 24,
   "metadata": {
    "ExecuteTime": {
     "end_time": "2021-03-14T20:25:22.113093Z",
     "start_time": "2021-03-14T20:25:22.101090Z"
    }
   },
   "outputs": [
    {
     "data": {
      "text/plain": [
       "'y = -46.0 + 4.5x'"
      ]
     },
     "execution_count": 24,
     "metadata": {},
     "output_type": "execute_result"
    }
   ],
   "source": [
    "f'y = {intercept} + {slope}x'"
   ]
  },
  {
   "cell_type": "code",
   "execution_count": 26,
   "metadata": {
    "ExecuteTime": {
     "end_time": "2021-03-14T20:38:13.579639Z",
     "start_time": "2021-03-14T20:38:12.579437Z"
    }
   },
   "outputs": [],
   "source": [
    "from sklearn.linear_model import LinearRegression"
   ]
  },
  {
   "cell_type": "code",
   "execution_count": 27,
   "metadata": {
    "ExecuteTime": {
     "end_time": "2021-03-14T20:39:02.068528Z",
     "start_time": "2021-03-14T20:39:02.063598Z"
    }
   },
   "outputs": [],
   "source": [
    "x1, x2 = [1, 3, 2, 3, 1], [8, 4, 9, 6, 3]\n",
    "y = [29, 31, 36, 35, 19]"
   ]
  },
  {
   "cell_type": "code",
   "execution_count": 28,
   "metadata": {
    "ExecuteTime": {
     "end_time": "2021-03-14T20:39:11.329978Z",
     "start_time": "2021-03-14T20:39:11.321978Z"
    }
   },
   "outputs": [],
   "source": [
    "reg = LinearRegression()"
   ]
  },
  {
   "cell_type": "code",
   "execution_count": 29,
   "metadata": {
    "ExecuteTime": {
     "end_time": "2021-03-14T20:39:32.409420Z",
     "start_time": "2021-03-14T20:39:32.386414Z"
    }
   },
   "outputs": [
    {
     "data": {
      "text/plain": [
       "LinearRegression()"
      ]
     },
     "execution_count": 29,
     "metadata": {},
     "output_type": "execute_result"
    }
   ],
   "source": [
    "reg.fit(list(zip(x1, x2)), y)"
   ]
  },
  {
   "cell_type": "code",
   "execution_count": 33,
   "metadata": {
    "ExecuteTime": {
     "end_time": "2021-03-14T20:40:07.883555Z",
     "start_time": "2021-03-14T20:40:07.877556Z"
    }
   },
   "outputs": [
    {
     "data": {
      "text/plain": [
       "(5.0, 2.000000000000001)"
      ]
     },
     "execution_count": 33,
     "metadata": {},
     "output_type": "execute_result"
    }
   ],
   "source": [
    "b1, b2 = reg.coef_[0], reg.coef_[1]\n",
    "b1, b2"
   ]
  },
  {
   "cell_type": "code",
   "execution_count": 35,
   "metadata": {
    "ExecuteTime": {
     "end_time": "2021-03-14T20:41:06.293600Z",
     "start_time": "2021-03-14T20:41:06.284600Z"
    }
   },
   "outputs": [
    {
     "data": {
      "text/plain": [
       "7.999999999999993"
      ]
     },
     "execution_count": 35,
     "metadata": {},
     "output_type": "execute_result"
    }
   ],
   "source": [
    "b0 = reg.intercept_\n",
    "b0"
   ]
  },
  {
   "cell_type": "code",
   "execution_count": 37,
   "metadata": {
    "ExecuteTime": {
     "end_time": "2021-03-14T20:41:55.056347Z",
     "start_time": "2021-03-14T20:41:55.049360Z"
    }
   },
   "outputs": [
    {
     "data": {
      "text/plain": [
       "'y = 8.0 + 5.0x1 + 2.0x2'"
      ]
     },
     "execution_count": 37,
     "metadata": {},
     "output_type": "execute_result"
    }
   ],
   "source": [
    "f'y = {b0:.{3}} + {b1:.{3}}x1 + {b2:.{3}}x2'"
   ]
  },
  {
   "cell_type": "code",
   "execution_count": 38,
   "metadata": {
    "ExecuteTime": {
     "end_time": "2021-03-14T21:30:38.030750Z",
     "start_time": "2021-03-14T21:30:38.023053Z"
    }
   },
   "outputs": [],
   "source": [
    "from scipy.stats import chi2"
   ]
  },
  {
   "cell_type": "code",
   "execution_count": 39,
   "metadata": {
    "ExecuteTime": {
     "end_time": "2021-03-14T21:31:02.275471Z",
     "start_time": "2021-03-14T21:31:02.265554Z"
    }
   },
   "outputs": [
    {
     "data": {
      "text/plain": [
       "11.070497693516355"
      ]
     },
     "execution_count": 39,
     "metadata": {},
     "output_type": "execute_result"
    }
   ],
   "source": [
    "chi2.isf(0.05, 5)"
   ]
  },
  {
   "cell_type": "code",
   "execution_count": null,
   "metadata": {},
   "outputs": [],
   "source": []
  }
 ],
 "metadata": {
  "kernelspec": {
   "display_name": "learn-env",
   "language": "python",
   "name": "learn-env"
  },
  "language_info": {
   "codemirror_mode": {
    "name": "ipython",
    "version": 3
   },
   "file_extension": ".py",
   "mimetype": "text/x-python",
   "name": "python",
   "nbconvert_exporter": "python",
   "pygments_lexer": "ipython3",
   "version": "3.6.11"
  },
  "toc": {
   "base_numbering": 1,
   "nav_menu": {},
   "number_sections": true,
   "sideBar": true,
   "skip_h1_title": false,
   "title_cell": "Table of Contents",
   "title_sidebar": "Contents",
   "toc_cell": false,
   "toc_position": {},
   "toc_section_display": true,
   "toc_window_display": true
  }
 },
 "nbformat": 4,
 "nbformat_minor": 4
}
