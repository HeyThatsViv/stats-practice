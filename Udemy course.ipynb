{
 "cells": [
  {
   "cell_type": "code",
   "execution_count": 14,
   "metadata": {
    "ExecuteTime": {
     "end_time": "2021-03-14T01:46:40.935771Z",
     "start_time": "2021-03-14T01:46:40.925773Z"
    }
   },
   "outputs": [],
   "source": [
    "from scipy import stats\n",
    "from statistics import mean "
   ]
  },
  {
   "cell_type": "code",
   "execution_count": 2,
   "metadata": {
    "ExecuteTime": {
     "end_time": "2021-03-14T01:07:53.100898Z",
     "start_time": "2021-03-14T01:07:53.095901Z"
    }
   },
   "outputs": [],
   "source": [
    "from scipy.stats import ttest_ind"
   ]
  },
  {
   "cell_type": "code",
   "execution_count": 6,
   "metadata": {
    "ExecuteTime": {
     "end_time": "2021-03-14T01:10:43.952149Z",
     "start_time": "2021-03-14T01:10:43.948055Z"
    }
   },
   "outputs": [],
   "source": [
    "b = [1136,\n",
    "1178,\n",
    "1212,\n",
    "1193,\n",
    "1226,\n",
    "1154,\n",
    "1230,\n",
    "1222,\n",
    "1161,\n",
    "1148]\n",
    "\n",
    "a = [1184,\n",
    "1203,\n",
    "1219,\n",
    "1238,\n",
    "1243,\n",
    "1204,\n",
    "1269,\n",
    "1256,\n",
    "1156,\n",
    "1248]\n"
   ]
  },
  {
   "cell_type": "code",
   "execution_count": 7,
   "metadata": {
    "ExecuteTime": {
     "end_time": "2021-03-14T01:10:44.642818Z",
     "start_time": "2021-03-14T01:10:44.634820Z"
    }
   },
   "outputs": [
    {
     "data": {
      "text/plain": [
       "2.2795770510504845"
      ]
     },
     "execution_count": 7,
     "metadata": {},
     "output_type": "execute_result"
    }
   ],
   "source": [
    "ttest_ind(a,b).statistic"
   ]
  },
  {
   "cell_type": "code",
   "execution_count": 8,
   "metadata": {
    "ExecuteTime": {
     "end_time": "2021-03-14T01:10:47.738506Z",
     "start_time": "2021-03-14T01:10:47.731681Z"
    }
   },
   "outputs": [
    {
     "data": {
      "text/plain": [
       "0.03504505626727664"
      ]
     },
     "execution_count": 8,
     "metadata": {},
     "output_type": "execute_result"
    }
   ],
   "source": [
    "ttest_ind(a,b).pvalue"
   ]
  },
  {
   "cell_type": "code",
   "execution_count": 9,
   "metadata": {
    "ExecuteTime": {
     "end_time": "2021-03-14T01:43:48.581444Z",
     "start_time": "2021-03-14T01:43:48.576531Z"
    }
   },
   "outputs": [],
   "source": [
    "dept_a = [40, 36, 42, 36, 35, 35, 41, 43, 34]\n",
    "dept_b = [43, 41, 44, 39, 37, 35, 44, 46, 40]"
   ]
  },
  {
   "cell_type": "code",
   "execution_count": 16,
   "metadata": {
    "ExecuteTime": {
     "end_time": "2021-03-14T01:46:55.409839Z",
     "start_time": "2021-03-14T01:46:55.399840Z"
    }
   },
   "outputs": [
    {
     "data": {
      "text/plain": [
       "38"
      ]
     },
     "execution_count": 16,
     "metadata": {},
     "output_type": "execute_result"
    }
   ],
   "source": [
    "mew_a = mean(dept_a)\n",
    "mew_a"
   ]
  },
  {
   "cell_type": "code",
   "execution_count": 17,
   "metadata": {
    "ExecuteTime": {
     "end_time": "2021-03-14T01:47:05.452139Z",
     "start_time": "2021-03-14T01:47:05.441134Z"
    }
   },
   "outputs": [
    {
     "data": {
      "text/plain": [
       "41"
      ]
     },
     "execution_count": 17,
     "metadata": {},
     "output_type": "execute_result"
    }
   ],
   "source": [
    "mew_b = mean(dept_b)\n",
    "mew_b"
   ]
  },
  {
   "cell_type": "code",
   "execution_count": 32,
   "metadata": {
    "ExecuteTime": {
     "end_time": "2021-03-14T02:02:05.479289Z",
     "start_time": "2021-03-14T02:02:05.466289Z"
    }
   },
   "outputs": [
    {
     "data": {
      "text/plain": [
       "Ttest_indResult(statistic=-1.7999999999999998, pvalue=0.0907734524413777)"
      ]
     },
     "execution_count": 32,
     "metadata": {},
     "output_type": "execute_result"
    }
   ],
   "source": [
    "ttest_ind(dept_a, dept_b, equal_var=False)"
   ]
  },
  {
   "cell_type": "code",
   "execution_count": 29,
   "metadata": {
    "ExecuteTime": {
     "end_time": "2021-03-14T01:57:10.185105Z",
     "start_time": "2021-03-14T01:57:10.176105Z"
    }
   },
   "outputs": [
    {
     "data": {
      "text/plain": [
       "0.0907734524413777"
      ]
     },
     "execution_count": 29,
     "metadata": {},
     "output_type": "execute_result"
    }
   ],
   "source": [
    "ttest_ind(dept_a, dept_b, equal_var=False).pvalue"
   ]
  },
  {
   "cell_type": "code",
   "execution_count": 27,
   "metadata": {
    "ExecuteTime": {
     "end_time": "2021-03-14T01:56:57.755476Z",
     "start_time": "2021-03-14T01:56:57.746386Z"
    }
   },
   "outputs": [
    {
     "data": {
      "text/plain": [
       "'1.5.3'"
      ]
     },
     "execution_count": 27,
     "metadata": {},
     "output_type": "execute_result"
    }
   ],
   "source": [
    "import scipy\n",
    "scipy.__version__"
   ]
  },
  {
   "cell_type": "code",
   "execution_count": null,
   "metadata": {},
   "outputs": [],
   "source": []
  }
 ],
 "metadata": {
  "kernelspec": {
   "display_name": "learn-env",
   "language": "python",
   "name": "learn-env"
  },
  "language_info": {
   "codemirror_mode": {
    "name": "ipython",
    "version": 3
   },
   "file_extension": ".py",
   "mimetype": "text/x-python",
   "name": "python",
   "nbconvert_exporter": "python",
   "pygments_lexer": "ipython3",
   "version": "3.6.11"
  },
  "toc": {
   "base_numbering": 1,
   "nav_menu": {},
   "number_sections": true,
   "sideBar": true,
   "skip_h1_title": false,
   "title_cell": "Table of Contents",
   "title_sidebar": "Contents",
   "toc_cell": false,
   "toc_position": {},
   "toc_section_display": true,
   "toc_window_display": true
  }
 },
 "nbformat": 4,
 "nbformat_minor": 4
}
